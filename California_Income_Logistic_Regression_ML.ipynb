{
 "cells": [
  {
   "cell_type": "markdown",
   "metadata": {},
   "source": [
    "### California Census Data\n",
    "### Logistic Regression"
   ]
  },
  {
   "cell_type": "code",
   "execution_count": 1,
   "metadata": {},
   "outputs": [],
   "source": [
    "import pandas as pd"
   ]
  },
  {
   "cell_type": "code",
   "execution_count": 2,
   "metadata": {},
   "outputs": [],
   "source": [
    "census = pd.read_csv(\"census_data.csv\")"
   ]
  },
  {
   "cell_type": "code",
   "execution_count": 3,
   "metadata": {},
   "outputs": [
    {
     "data": {
      "text/html": [
       "<div>\n",
       "<style scoped>\n",
       "    .dataframe tbody tr th:only-of-type {\n",
       "        vertical-align: middle;\n",
       "    }\n",
       "\n",
       "    .dataframe tbody tr th {\n",
       "        vertical-align: top;\n",
       "    }\n",
       "\n",
       "    .dataframe thead th {\n",
       "        text-align: right;\n",
       "    }\n",
       "</style>\n",
       "<table border=\"1\" class=\"dataframe\">\n",
       "  <thead>\n",
       "    <tr style=\"text-align: right;\">\n",
       "      <th></th>\n",
       "      <th>age</th>\n",
       "      <th>workclass</th>\n",
       "      <th>education</th>\n",
       "      <th>education_num</th>\n",
       "      <th>marital_status</th>\n",
       "      <th>occupation</th>\n",
       "      <th>relationship</th>\n",
       "      <th>race</th>\n",
       "      <th>gender</th>\n",
       "      <th>capital_gain</th>\n",
       "      <th>capital_loss</th>\n",
       "      <th>hours_per_week</th>\n",
       "      <th>native_country</th>\n",
       "      <th>income_bracket</th>\n",
       "    </tr>\n",
       "  </thead>\n",
       "  <tbody>\n",
       "    <tr>\n",
       "      <th>0</th>\n",
       "      <td>39</td>\n",
       "      <td>State-gov</td>\n",
       "      <td>Bachelors</td>\n",
       "      <td>13</td>\n",
       "      <td>Never-married</td>\n",
       "      <td>Adm-clerical</td>\n",
       "      <td>Not-in-family</td>\n",
       "      <td>White</td>\n",
       "      <td>Male</td>\n",
       "      <td>2174</td>\n",
       "      <td>0</td>\n",
       "      <td>40</td>\n",
       "      <td>United-States</td>\n",
       "      <td>&lt;=50K</td>\n",
       "    </tr>\n",
       "    <tr>\n",
       "      <th>1</th>\n",
       "      <td>50</td>\n",
       "      <td>Self-emp-not-inc</td>\n",
       "      <td>Bachelors</td>\n",
       "      <td>13</td>\n",
       "      <td>Married-civ-spouse</td>\n",
       "      <td>Exec-managerial</td>\n",
       "      <td>Husband</td>\n",
       "      <td>White</td>\n",
       "      <td>Male</td>\n",
       "      <td>0</td>\n",
       "      <td>0</td>\n",
       "      <td>13</td>\n",
       "      <td>United-States</td>\n",
       "      <td>&lt;=50K</td>\n",
       "    </tr>\n",
       "    <tr>\n",
       "      <th>2</th>\n",
       "      <td>38</td>\n",
       "      <td>Private</td>\n",
       "      <td>HS-grad</td>\n",
       "      <td>9</td>\n",
       "      <td>Divorced</td>\n",
       "      <td>Handlers-cleaners</td>\n",
       "      <td>Not-in-family</td>\n",
       "      <td>White</td>\n",
       "      <td>Male</td>\n",
       "      <td>0</td>\n",
       "      <td>0</td>\n",
       "      <td>40</td>\n",
       "      <td>United-States</td>\n",
       "      <td>&lt;=50K</td>\n",
       "    </tr>\n",
       "    <tr>\n",
       "      <th>3</th>\n",
       "      <td>53</td>\n",
       "      <td>Private</td>\n",
       "      <td>11th</td>\n",
       "      <td>7</td>\n",
       "      <td>Married-civ-spouse</td>\n",
       "      <td>Handlers-cleaners</td>\n",
       "      <td>Husband</td>\n",
       "      <td>Black</td>\n",
       "      <td>Male</td>\n",
       "      <td>0</td>\n",
       "      <td>0</td>\n",
       "      <td>40</td>\n",
       "      <td>United-States</td>\n",
       "      <td>&lt;=50K</td>\n",
       "    </tr>\n",
       "    <tr>\n",
       "      <th>4</th>\n",
       "      <td>28</td>\n",
       "      <td>Private</td>\n",
       "      <td>Bachelors</td>\n",
       "      <td>13</td>\n",
       "      <td>Married-civ-spouse</td>\n",
       "      <td>Prof-specialty</td>\n",
       "      <td>Wife</td>\n",
       "      <td>Black</td>\n",
       "      <td>Female</td>\n",
       "      <td>0</td>\n",
       "      <td>0</td>\n",
       "      <td>40</td>\n",
       "      <td>Cuba</td>\n",
       "      <td>&lt;=50K</td>\n",
       "    </tr>\n",
       "  </tbody>\n",
       "</table>\n",
       "</div>"
      ],
      "text/plain": [
       "   age          workclass   education  education_num       marital_status  \\\n",
       "0   39          State-gov   Bachelors             13        Never-married   \n",
       "1   50   Self-emp-not-inc   Bachelors             13   Married-civ-spouse   \n",
       "2   38            Private     HS-grad              9             Divorced   \n",
       "3   53            Private        11th              7   Married-civ-spouse   \n",
       "4   28            Private   Bachelors             13   Married-civ-spouse   \n",
       "\n",
       "           occupation    relationship    race   gender  capital_gain  \\\n",
       "0        Adm-clerical   Not-in-family   White     Male          2174   \n",
       "1     Exec-managerial         Husband   White     Male             0   \n",
       "2   Handlers-cleaners   Not-in-family   White     Male             0   \n",
       "3   Handlers-cleaners         Husband   Black     Male             0   \n",
       "4      Prof-specialty            Wife   Black   Female             0   \n",
       "\n",
       "   capital_loss  hours_per_week  native_country income_bracket  \n",
       "0             0              40   United-States          <=50K  \n",
       "1             0              13   United-States          <=50K  \n",
       "2             0              40   United-States          <=50K  \n",
       "3             0              40   United-States          <=50K  \n",
       "4             0              40            Cuba          <=50K  "
      ]
     },
     "execution_count": 3,
     "metadata": {},
     "output_type": "execute_result"
    }
   ],
   "source": [
    "census.head()"
   ]
  },
  {
   "cell_type": "code",
   "execution_count": 5,
   "metadata": {},
   "outputs": [
    {
     "data": {
      "text/plain": [
       "array([' <=50K', ' >50K'], dtype=object)"
      ]
     },
     "execution_count": 5,
     "metadata": {},
     "output_type": "execute_result"
    }
   ],
   "source": [
    "census[\"income_bracket\"].unique()"
   ]
  },
  {
   "cell_type": "code",
   "execution_count": 6,
   "metadata": {},
   "outputs": [],
   "source": [
    "def label_fix(label):\n",
    "    if label==' <=50K':\n",
    "        return 0\n",
    "    else:\n",
    "        return 1"
   ]
  },
  {
   "cell_type": "code",
   "execution_count": 7,
   "metadata": {},
   "outputs": [],
   "source": [
    "census['income_bracket'] = census['income_bracket'].apply(label_fix)"
   ]
  },
  {
   "cell_type": "code",
   "execution_count": 8,
   "metadata": {},
   "outputs": [],
   "source": [
    "from sklearn.model_selection import train_test_split"
   ]
  },
  {
   "cell_type": "code",
   "execution_count": 9,
   "metadata": {},
   "outputs": [],
   "source": [
    "x_data = census.drop('income_bracket',axis=1)\n",
    "y_labels = census['income_bracket']\n",
    "X_train, X_test, y_train, y_test = train_test_split(x_data,y_labels,test_size=0.3,random_state=101)"
   ]
  },
  {
   "cell_type": "code",
   "execution_count": 10,
   "metadata": {},
   "outputs": [
    {
     "data": {
      "text/plain": [
       "Index(['age', 'workclass', 'education', 'education_num', 'marital_status',\n",
       "       'occupation', 'relationship', 'race', 'gender', 'capital_gain',\n",
       "       'capital_loss', 'hours_per_week', 'native_country', 'income_bracket'],\n",
       "      dtype='object')"
      ]
     },
     "execution_count": 10,
     "metadata": {},
     "output_type": "execute_result"
    }
   ],
   "source": [
    "census.columns"
   ]
  },
  {
   "cell_type": "code",
   "execution_count": 13,
   "metadata": {},
   "outputs": [],
   "source": [
    "import tensorflow as tf"
   ]
  },
  {
   "cell_type": "code",
   "execution_count": 12,
   "metadata": {},
   "outputs": [],
   "source": [
    "gender = tf.feature_column.categorical_column_with_vocabulary_list(\"gender\", [\"Female\", \"Male\"])\n",
    "occupation = tf.feature_column.categorical_column_with_hash_bucket(\"occupation\", hash_bucket_size=1000)\n",
    "marital_status = tf.feature_column.categorical_column_with_hash_bucket(\"marital_status\", hash_bucket_size=1000)\n",
    "relationship = tf.feature_column.categorical_column_with_hash_bucket(\"relationship\", hash_bucket_size=1000)\n",
    "education = tf.feature_column.categorical_column_with_hash_bucket(\"education\", hash_bucket_size=1000)\n",
    "workclass = tf.feature_column.categorical_column_with_hash_bucket(\"workclass\", hash_bucket_size=1000)\n",
    "native_country = tf.feature_column.categorical_column_with_hash_bucket(\"native_country\", hash_bucket_size=1000)"
   ]
  },
  {
   "cell_type": "code",
   "execution_count": 14,
   "metadata": {},
   "outputs": [],
   "source": [
    "age = tf.feature_column.numeric_column(\"age\")\n",
    "education_num = tf.feature_column.numeric_column(\"education_num\")\n",
    "capital_gain = tf.feature_column.numeric_column(\"capital_gain\")\n",
    "capital_loss = tf.feature_column.numeric_column(\"capital_loss\")\n",
    "hours_per_week = tf.feature_column.numeric_column(\"hours_per_week\")"
   ]
  },
  {
   "cell_type": "code",
   "execution_count": 15,
   "metadata": {},
   "outputs": [],
   "source": [
    "feat_cols = [gender,occupation,marital_status,relationship,education,workclass,native_country,\n",
    "            age,education_num,capital_gain,capital_loss,hours_per_week]"
   ]
  },
  {
   "cell_type": "code",
   "execution_count": 16,
   "metadata": {},
   "outputs": [],
   "source": [
    "input_func=tf.estimator.inputs.pandas_input_fn(x=X_train,y=y_train,batch_size=100,num_epochs=None,shuffle=True)"
   ]
  },
  {
   "cell_type": "code",
   "execution_count": 17,
   "metadata": {},
   "outputs": [
    {
     "name": "stdout",
     "output_type": "stream",
     "text": [
      "INFO:tensorflow:Using default config.\n",
      "WARNING:tensorflow:Using temporary folder as model directory: C:\\Users\\jagri\\AppData\\Local\\Temp\\tmpyjlj7log\n",
      "INFO:tensorflow:Using config: {'_model_dir': 'C:\\\\Users\\\\jagri\\\\AppData\\\\Local\\\\Temp\\\\tmpyjlj7log', '_tf_random_seed': None, '_save_summary_steps': 100, '_save_checkpoints_steps': None, '_save_checkpoints_secs': 600, '_session_config': None, '_keep_checkpoint_max': 5, '_keep_checkpoint_every_n_hours': 10000, '_log_step_count_steps': 100, '_train_distribute': None, '_service': None, '_cluster_spec': <tensorflow.python.training.server_lib.ClusterSpec object at 0x000002086EA547B8>, '_task_type': 'worker', '_task_id': 0, '_global_id_in_cluster': 0, '_master': '', '_evaluation_master': '', '_is_chief': True, '_num_ps_replicas': 0, '_num_worker_replicas': 1}\n"
     ]
    }
   ],
   "source": [
    "model = tf.estimator.LinearClassifier(feature_columns=feat_cols)"
   ]
  },
  {
   "cell_type": "code",
   "execution_count": 18,
   "metadata": {},
   "outputs": [
    {
     "name": "stdout",
     "output_type": "stream",
     "text": [
      "INFO:tensorflow:Calling model_fn.\n",
      "INFO:tensorflow:Done calling model_fn.\n",
      "INFO:tensorflow:Create CheckpointSaverHook.\n",
      "INFO:tensorflow:Graph was finalized.\n",
      "INFO:tensorflow:Running local_init_op.\n",
      "INFO:tensorflow:Done running local_init_op.\n",
      "INFO:tensorflow:Saving checkpoints for 1 into C:\\Users\\jagri\\AppData\\Local\\Temp\\tmpyjlj7log\\model.ckpt.\n",
      "INFO:tensorflow:loss = 69.31472, step = 1\n",
      "INFO:tensorflow:global_step/sec: 94.4077\n",
      "INFO:tensorflow:loss = 350.5074, step = 101 (1.074 sec)\n",
      "INFO:tensorflow:global_step/sec: 164.823\n",
      "INFO:tensorflow:loss = 189.57957, step = 201 (0.591 sec)\n",
      "INFO:tensorflow:global_step/sec: 177.407\n",
      "INFO:tensorflow:loss = 122.43816, step = 301 (0.564 sec)\n",
      "INFO:tensorflow:global_step/sec: 172.215\n",
      "INFO:tensorflow:loss = 108.62299, step = 401 (0.583 sec)\n",
      "INFO:tensorflow:global_step/sec: 144.175\n",
      "INFO:tensorflow:loss = 327.91116, step = 501 (0.698 sec)\n",
      "INFO:tensorflow:global_step/sec: 114.875\n",
      "INFO:tensorflow:loss = 156.81772, step = 601 (0.875 sec)\n",
      "INFO:tensorflow:global_step/sec: 108.522\n",
      "INFO:tensorflow:loss = 59.88092, step = 701 (0.914 sec)\n",
      "INFO:tensorflow:global_step/sec: 176.779\n",
      "INFO:tensorflow:loss = 238.35045, step = 801 (0.568 sec)\n",
      "INFO:tensorflow:global_step/sec: 182.586\n",
      "INFO:tensorflow:loss = 81.86332, step = 901 (0.544 sec)\n",
      "INFO:tensorflow:global_step/sec: 179.959\n",
      "INFO:tensorflow:loss = 28.625046, step = 1001 (0.556 sec)\n",
      "INFO:tensorflow:global_step/sec: 127.138\n",
      "INFO:tensorflow:loss = 83.232285, step = 1101 (0.790 sec)\n",
      "INFO:tensorflow:global_step/sec: 149.117\n",
      "INFO:tensorflow:loss = 48.954514, step = 1201 (0.668 sec)\n",
      "INFO:tensorflow:global_step/sec: 123.167\n",
      "INFO:tensorflow:loss = 248.75023, step = 1301 (0.812 sec)\n",
      "INFO:tensorflow:global_step/sec: 104.902\n",
      "INFO:tensorflow:loss = 377.26923, step = 1401 (0.961 sec)\n",
      "INFO:tensorflow:global_step/sec: 129.509\n",
      "INFO:tensorflow:loss = 180.44714, step = 1501 (0.764 sec)\n",
      "INFO:tensorflow:global_step/sec: 95.0705\n",
      "INFO:tensorflow:loss = 52.537136, step = 1601 (1.057 sec)\n",
      "INFO:tensorflow:global_step/sec: 108.248\n",
      "INFO:tensorflow:loss = 441.2417, step = 1701 (0.920 sec)\n",
      "INFO:tensorflow:global_step/sec: 122.454\n",
      "INFO:tensorflow:loss = 79.81436, step = 1801 (0.817 sec)\n",
      "INFO:tensorflow:global_step/sec: 154.695\n",
      "INFO:tensorflow:loss = 47.340855, step = 1901 (0.638 sec)\n",
      "INFO:tensorflow:global_step/sec: 109.68\n",
      "INFO:tensorflow:loss = 38.671196, step = 2001 (0.921 sec)\n",
      "INFO:tensorflow:global_step/sec: 134.782\n",
      "INFO:tensorflow:loss = 27.847116, step = 2101 (0.753 sec)\n",
      "INFO:tensorflow:global_step/sec: 104.378\n",
      "INFO:tensorflow:loss = 27.694477, step = 2201 (0.949 sec)\n",
      "INFO:tensorflow:global_step/sec: 106.671\n",
      "INFO:tensorflow:loss = 155.37605, step = 2301 (0.931 sec)\n",
      "INFO:tensorflow:global_step/sec: 172.158\n",
      "INFO:tensorflow:loss = 145.32666, step = 2401 (0.591 sec)\n",
      "INFO:tensorflow:global_step/sec: 169.219\n",
      "INFO:tensorflow:loss = 31.52437, step = 2501 (0.575 sec)\n",
      "INFO:tensorflow:global_step/sec: 175.873\n",
      "INFO:tensorflow:loss = 80.38847, step = 2601 (0.584 sec)\n",
      "INFO:tensorflow:global_step/sec: 171.643\n",
      "INFO:tensorflow:loss = 36.868908, step = 2701 (0.577 sec)\n",
      "INFO:tensorflow:global_step/sec: 169.797\n",
      "INFO:tensorflow:loss = 50.9434, step = 2801 (0.579 sec)\n",
      "INFO:tensorflow:global_step/sec: 177.333\n",
      "INFO:tensorflow:loss = 207.60495, step = 2901 (0.564 sec)\n",
      "INFO:tensorflow:global_step/sec: 183.739\n",
      "INFO:tensorflow:loss = 97.30334, step = 3001 (0.550 sec)\n",
      "INFO:tensorflow:global_step/sec: 178.284\n",
      "INFO:tensorflow:loss = 37.187283, step = 3101 (0.558 sec)\n",
      "INFO:tensorflow:global_step/sec: 177.484\n",
      "INFO:tensorflow:loss = 41.20962, step = 3201 (0.560 sec)\n",
      "INFO:tensorflow:global_step/sec: 180.381\n",
      "INFO:tensorflow:loss = 98.43585, step = 3301 (0.554 sec)\n",
      "INFO:tensorflow:global_step/sec: 161.089\n",
      "INFO:tensorflow:loss = 141.88374, step = 3401 (0.639 sec)\n",
      "INFO:tensorflow:global_step/sec: 133.465\n",
      "INFO:tensorflow:loss = 55.673492, step = 3501 (0.743 sec)\n",
      "INFO:tensorflow:global_step/sec: 168.327\n",
      "INFO:tensorflow:loss = 139.73914, step = 3601 (0.582 sec)\n",
      "INFO:tensorflow:global_step/sec: 181.749\n",
      "INFO:tensorflow:loss = 26.124031, step = 3701 (0.550 sec)\n",
      "INFO:tensorflow:global_step/sec: 181.979\n",
      "INFO:tensorflow:loss = 37.05356, step = 3801 (0.571 sec)\n",
      "INFO:tensorflow:global_step/sec: 176.008\n",
      "INFO:tensorflow:loss = 193.21054, step = 3901 (0.547 sec)\n",
      "INFO:tensorflow:global_step/sec: 177.371\n",
      "INFO:tensorflow:loss = 73.30779, step = 4001 (0.564 sec)\n",
      "INFO:tensorflow:global_step/sec: 172.386\n",
      "INFO:tensorflow:loss = 31.732327, step = 4101 (0.580 sec)\n",
      "INFO:tensorflow:global_step/sec: 180.228\n",
      "INFO:tensorflow:loss = 78.666985, step = 4201 (0.555 sec)\n",
      "INFO:tensorflow:global_step/sec: 177.363\n",
      "INFO:tensorflow:loss = 97.68244, step = 4301 (0.564 sec)\n",
      "INFO:tensorflow:global_step/sec: 177.912\n",
      "INFO:tensorflow:loss = 44.44588, step = 4401 (0.562 sec)\n",
      "INFO:tensorflow:global_step/sec: 137.32\n",
      "INFO:tensorflow:loss = 35.690647, step = 4501 (0.735 sec)\n",
      "INFO:tensorflow:global_step/sec: 164.311\n",
      "INFO:tensorflow:loss = 43.378887, step = 4601 (0.617 sec)\n",
      "INFO:tensorflow:global_step/sec: 153.536\n",
      "INFO:tensorflow:loss = 32.165295, step = 4701 (0.652 sec)\n",
      "INFO:tensorflow:global_step/sec: 177.846\n",
      "INFO:tensorflow:loss = 35.11124, step = 4801 (0.562 sec)\n",
      "INFO:tensorflow:global_step/sec: 139.627\n",
      "INFO:tensorflow:loss = 21.897211, step = 4901 (0.709 sec)\n",
      "INFO:tensorflow:Saving checkpoints for 5000 into C:\\Users\\jagri\\AppData\\Local\\Temp\\tmpyjlj7log\\model.ckpt.\n",
      "INFO:tensorflow:Loss for final step: 33.889248.\n"
     ]
    },
    {
     "data": {
      "text/plain": [
       "<tensorflow.python.estimator.canned.linear.LinearClassifier at 0x20870582240>"
      ]
     },
     "execution_count": 18,
     "metadata": {},
     "output_type": "execute_result"
    }
   ],
   "source": [
    "model.train(input_fn=input_func,steps=5000)"
   ]
  },
  {
   "cell_type": "code",
   "execution_count": 19,
   "metadata": {},
   "outputs": [],
   "source": [
    "pred_fn = tf.estimator.inputs.pandas_input_fn(x=X_test,batch_size=len(X_test),shuffle=False)"
   ]
  },
  {
   "cell_type": "code",
   "execution_count": 20,
   "metadata": {},
   "outputs": [
    {
     "name": "stdout",
     "output_type": "stream",
     "text": [
      "INFO:tensorflow:Calling model_fn.\n",
      "INFO:tensorflow:Done calling model_fn.\n",
      "INFO:tensorflow:Graph was finalized.\n",
      "INFO:tensorflow:Restoring parameters from C:\\Users\\jagri\\AppData\\Local\\Temp\\tmpyjlj7log\\model.ckpt-5000\n",
      "INFO:tensorflow:Running local_init_op.\n",
      "INFO:tensorflow:Done running local_init_op.\n"
     ]
    }
   ],
   "source": [
    "predictions = list(model.predict(input_fn=pred_fn))"
   ]
  },
  {
   "cell_type": "code",
   "execution_count": 21,
   "metadata": {},
   "outputs": [
    {
     "data": {
      "text/plain": [
       "{'logits': array([-0.59479684], dtype=float32),\n",
       " 'logistic': array([0.355535], dtype=float32),\n",
       " 'probabilities': array([0.644465, 0.355535], dtype=float32),\n",
       " 'class_ids': array([0], dtype=int64),\n",
       " 'classes': array([b'0'], dtype=object)}"
      ]
     },
     "execution_count": 21,
     "metadata": {},
     "output_type": "execute_result"
    }
   ],
   "source": [
    "predictions[0]"
   ]
  },
  {
   "cell_type": "code",
   "execution_count": 22,
   "metadata": {},
   "outputs": [],
   "source": [
    "final_preds = []\n",
    "for pred in predictions:\n",
    "    final_preds.append(pred['class_ids'][0])"
   ]
  },
  {
   "cell_type": "code",
   "execution_count": 23,
   "metadata": {},
   "outputs": [
    {
     "data": {
      "text/plain": [
       "[0, 0, 0, 0, 1, 0, 0, 0, 0, 0]"
      ]
     },
     "execution_count": 23,
     "metadata": {},
     "output_type": "execute_result"
    }
   ],
   "source": [
    "final_preds[:10]"
   ]
  },
  {
   "cell_type": "code",
   "execution_count": 24,
   "metadata": {},
   "outputs": [],
   "source": [
    "from sklearn.metrics import classification_report"
   ]
  },
  {
   "cell_type": "code",
   "execution_count": 25,
   "metadata": {},
   "outputs": [
    {
     "name": "stdout",
     "output_type": "stream",
     "text": [
      "             precision    recall  f1-score   support\n",
      "\n",
      "          0       0.91      0.87      0.89      7436\n",
      "          1       0.64      0.72      0.68      2333\n",
      "\n",
      "avg / total       0.84      0.84      0.84      9769\n",
      "\n"
     ]
    }
   ],
   "source": [
    "print(classification_report(y_test,final_preds))"
   ]
  },
  {
   "cell_type": "code",
   "execution_count": null,
   "metadata": {},
   "outputs": [],
   "source": []
  }
 ],
 "metadata": {
  "kernelspec": {
   "display_name": "Python 3",
   "language": "python",
   "name": "python3"
  },
  "language_info": {
   "codemirror_mode": {
    "name": "ipython",
    "version": 3
   },
   "file_extension": ".py",
   "mimetype": "text/x-python",
   "name": "python",
   "nbconvert_exporter": "python",
   "pygments_lexer": "ipython3",
   "version": "3.6.5"
  }
 },
 "nbformat": 4,
 "nbformat_minor": 2
}
